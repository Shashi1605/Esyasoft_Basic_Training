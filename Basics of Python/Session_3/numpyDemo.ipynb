{
 "cells": [
  {
   "cell_type": "markdown",
   "id": "c966a118",
   "metadata": {},
   "source": [
    "# Numpy"
   ]
  },
  {
   "cell_type": "markdown",
   "id": "1e458945",
   "metadata": {},
   "source": [
    "## Creating 1-D Array"
   ]
  },
  {
   "cell_type": "code",
   "execution_count": null,
   "id": "64ae34bd",
   "metadata": {},
   "outputs": [
    {
     "name": "stdout",
     "output_type": "stream",
     "text": [
      "[2 4 6]\n",
      "[[1 3]\n",
      " [2 4]]\n",
      "[[[1 3 4]\n",
      "  [3 4 5]\n",
      "  [5 6 7]]]\n"
     ]
    }
   ],
   "source": [
    "import numpy as np\n",
    "\n",
    "#1-D Array\n",
    "arr = np.array([2,4,6])\n",
    "\n",
    "#2-D Array\n",
    "arr2 = np.array([[1,3],[2,4]])\n",
    "\n",
    "#3-D Array\n",
    "arr3 = np.array([[[1,3,4],[3,4,5],[5,6,7,]]])\n",
    "\n",
    "\n",
    "# print(arr)\n",
    "\n",
    "# print(arr2)\n",
    "\n",
    "# print(arr3)"
   ]
  },
  {
   "cell_type": "markdown",
   "id": "555c3659",
   "metadata": {},
   "source": [
    "# Pandas"
   ]
  },
  {
   "cell_type": "markdown",
   "id": "18d890ae",
   "metadata": {},
   "source": [
    "## installing Pandas"
   ]
  },
  {
   "cell_type": "markdown",
   "id": "195633ee",
   "metadata": {},
   "source": [
    "pip install pandas"
   ]
  },
  {
   "cell_type": "code",
   "execution_count": 10,
   "id": "1c027f88",
   "metadata": {},
   "outputs": [
    {
     "name": "stdout",
     "output_type": "stream",
     "text": [
      "     name  Age       City  Salary\n",
      "0  shashi   22     Ranchi   72550\n",
      "1     Joy   21     Ranchi   89000\n",
      "2    Aman   24  Rajasthan     200\n"
     ]
    }
   ],
   "source": [
    "import pandas as pd\n",
    "\n",
    "employee = {\n",
    "    'name' : [\"shashi\", \"Joy\", \"Aman\"],\n",
    "    \"Age\" : [22,21,24],\n",
    "    \"City\" : [\"Ranchi\", \"Ranchi\", \"Rajasthan\"],\n",
    "    \"Salary\" : [72550, 89000, 200]\n",
    "}\n",
    "\n",
    "df = pd.DataFrame(employee)\n",
    "print(df)\n"
   ]
  },
  {
   "cell_type": "code",
   "execution_count": null,
   "id": "63ce703d",
   "metadata": {},
   "outputs": [],
   "source": []
  }
 ],
 "metadata": {
  "kernelspec": {
   "display_name": "Python 3",
   "language": "python",
   "name": "python3"
  },
  "language_info": {
   "codemirror_mode": {
    "name": "ipython",
    "version": 3
   },
   "file_extension": ".py",
   "mimetype": "text/x-python",
   "name": "python",
   "nbconvert_exporter": "python",
   "pygments_lexer": "ipython3",
   "version": "3.13.7"
  }
 },
 "nbformat": 4,
 "nbformat_minor": 5
}
